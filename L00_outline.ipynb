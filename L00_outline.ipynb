{
 "cells": [
  {
   "cell_type": "markdown",
   "metadata": {
    "collapsed": true
   },
   "source": [
    "<img align=\"left\" src=\"./img/lu.png\" hspace=\"20\"/> <img align=\"right\" src=\"./img/midlands+.png\"/>\n",
    "<br/><br/><br/><br/><br/><br/><br/>\n",
    "\n",
    "------\n",
    "\n",
    "# Introduction to Scientific Python\n",
    "\n",
    ">Dr Feng Chen (f.chen@lboro.ac.uk)\n",
    "\n",
    ">Research Software Engineer (RSE) @ Loughborough University (research-computing@lboro.ac.uk)\n",
    "\n",
    ">[http://www.lboro.ac.uk/services/it/research/researchcomputing/](http://www.lboro.ac.uk/services/it/research/researchcomputing/)\n",
    "\n",
    ">[http://www.hpc-midlands-plus.ac.uk/](http://www.hpc-midlands-plus.ac.uk/)\n",
    "\n",
    "------\n",
    "\n",
    "## Outline\n",
    "* <span style=\"font-size:120%;\">Research computing with Python</span>\n",
    "* <span style=\"font-size:120%;\">Introduction to Python language</span>\n",
    "* <span style=\"font-size:120%;\">NumPy</span>\n",
    "* <span style=\"font-size:120%;\">SciPy</span>\n",
    "* <span style=\"font-size:120%;\">Matplotlib</span>"
   ]
  },
  {
   "cell_type": "code",
   "execution_count": null,
   "metadata": {},
   "outputs": [],
   "source": []
  }
 ],
 "metadata": {
  "kernelspec": {
   "display_name": "Python 2",
   "language": "python",
   "name": "python2"
  },
  "language_info": {
   "codemirror_mode": {
    "name": "ipython",
    "version": 2
   },
   "file_extension": ".py",
   "mimetype": "text/x-python",
   "name": "python",
   "nbconvert_exporter": "python",
   "pygments_lexer": "ipython2",
   "version": "2.7.6"
  }
 },
 "nbformat": 4,
 "nbformat_minor": 0
}
